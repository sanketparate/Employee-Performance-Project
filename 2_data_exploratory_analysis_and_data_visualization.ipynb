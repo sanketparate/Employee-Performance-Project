{
 "cells": [
  {
   "cell_type": "markdown",
   "metadata": {
    "id": "IrgFT3A-p_Kx"
   },
   "source": [
    "# EDA\n",
    "The purpose of this stage is to understand the relationship of each variable with outcome varibale using graphs and generate useful information for the client.\n",
    "This will also lead to techincal inputs for further processing\n",
    "Only samples techniques of EDA are provided"
   ]
  },
  {
   "cell_type": "code",
   "execution_count": 1,
   "metadata": {
    "id": "vGxhTtYAp_K1"
   },
   "outputs": [],
   "source": [
    "import pandas as pd\n",
    "import numpy as np\n",
    "#import researchpy as rp\n",
    "from scipy import stats\n",
    "\n",
    "import matplotlib.pyplot as plt\n",
    "#import pydotplus\n",
    "from matplotlib import rcParams\n",
    "import seaborn as sns\n",
    "\n",
    "from collections import Counter"
   ]
  },
  {
   "cell_type": "code",
   "execution_count": 2,
   "metadata": {
    "id": "PUtJ-AQCp_K2"
   },
   "outputs": [],
   "source": [
    "names = ['c_EmpNumber','q_Age','c_Gender','c_EducationBackground','c_MaritalStatus','c_EmpDepartment','c_EmpJobRole','c_BusinessTravelFrequency',\n",
    "         'q_DistanceFromHome','q_EmpEducationLevel','q_EmpEnvironmentSatisfaction','q_EmpHourlyRate','q_EmpJobInvolvement','q_EmpJobLevel'\n",
    "        ,'q_EmpJobSatisfaction','q_NumCompaniesWorked','c_OverTime','q_EmpLastSalaryHikePercent','q_EmpRelationshipSatisfaction','q_TotalWorkExperienceInYears',\n",
    "        'q_TrainingTimesLastYear','q_EmpWorkLifeBalance','q_ExperienceYearsAtThisCompany','q_ExperienceYearsInCurrentRole','q_YearsSinceLastPromotion',\n",
    "        'q_YearsWithCurrManager','c_Attrition','y_PerformanceRating']"
   ]
  },
  {
   "cell_type": "code",
   "execution_count": 3,
   "metadata": {
    "colab": {
     "base_uri": "https://localhost:8080/",
     "height": 72,
     "resources": {
      "http://localhost:8080/nbextensions/google.colab/files.js": {
       "data": "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",
       "headers": [
        [
         "content-type",
         "application/javascript"
        ]
       ],
       "ok": true,
       "status": 200,
       "status_text": ""
      }
     }
    },
    "id": "2XzExWqcqiRf",
    "outputId": "e1e7e407-c36c-43b1-da88-91b27496bbe7"
   },
   "outputs": [],
   "source": [
    "import os\n",
    "os.chdir(\"C:/Users/SANKET/Downloads/Employee Performance Project/Employee Performance Project/Data\")"
   ]
  },
  {
   "cell_type": "code",
   "execution_count": 4,
   "metadata": {
    "colab": {
     "base_uri": "https://localhost:8080/",
     "height": 309
    },
    "id": "k5nzICIkp_K3",
    "outputId": "021c3124-8b23-4e34-c588-b38ef637d2a6"
   },
   "outputs": [
    {
     "data": {
      "text/html": [
       "<div>\n",
       "<style scoped>\n",
       "    .dataframe tbody tr th:only-of-type {\n",
       "        vertical-align: middle;\n",
       "    }\n",
       "\n",
       "    .dataframe tbody tr th {\n",
       "        vertical-align: top;\n",
       "    }\n",
       "\n",
       "    .dataframe thead th {\n",
       "        text-align: right;\n",
       "    }\n",
       "</style>\n",
       "<table border=\"1\" class=\"dataframe\">\n",
       "  <thead>\n",
       "    <tr style=\"text-align: right;\">\n",
       "      <th></th>\n",
       "      <th>c_EmpNumber</th>\n",
       "      <th>q_Age</th>\n",
       "      <th>c_Gender</th>\n",
       "      <th>c_EducationBackground</th>\n",
       "      <th>c_MaritalStatus</th>\n",
       "      <th>c_EmpDepartment</th>\n",
       "      <th>c_EmpJobRole</th>\n",
       "      <th>c_BusinessTravelFrequency</th>\n",
       "      <th>q_DistanceFromHome</th>\n",
       "      <th>q_EmpEducationLevel</th>\n",
       "      <th>...</th>\n",
       "      <th>q_EmpRelationshipSatisfaction</th>\n",
       "      <th>q_TotalWorkExperienceInYears</th>\n",
       "      <th>q_TrainingTimesLastYear</th>\n",
       "      <th>q_EmpWorkLifeBalance</th>\n",
       "      <th>q_ExperienceYearsAtThisCompany</th>\n",
       "      <th>q_ExperienceYearsInCurrentRole</th>\n",
       "      <th>q_YearsSinceLastPromotion</th>\n",
       "      <th>q_YearsWithCurrManager</th>\n",
       "      <th>c_Attrition</th>\n",
       "      <th>y_PerformanceRating</th>\n",
       "    </tr>\n",
       "  </thead>\n",
       "  <tbody>\n",
       "    <tr>\n",
       "      <th>0</th>\n",
       "      <td>E1001000</td>\n",
       "      <td>32</td>\n",
       "      <td>Male</td>\n",
       "      <td>Marketing</td>\n",
       "      <td>Single</td>\n",
       "      <td>Sales</td>\n",
       "      <td>Sales Executive</td>\n",
       "      <td>Travel_Rarely</td>\n",
       "      <td>10</td>\n",
       "      <td>3</td>\n",
       "      <td>...</td>\n",
       "      <td>4</td>\n",
       "      <td>10</td>\n",
       "      <td>2</td>\n",
       "      <td>2</td>\n",
       "      <td>10</td>\n",
       "      <td>7</td>\n",
       "      <td>0</td>\n",
       "      <td>8</td>\n",
       "      <td>No</td>\n",
       "      <td>3</td>\n",
       "    </tr>\n",
       "    <tr>\n",
       "      <th>1</th>\n",
       "      <td>E1001006</td>\n",
       "      <td>47</td>\n",
       "      <td>Male</td>\n",
       "      <td>Marketing</td>\n",
       "      <td>Single</td>\n",
       "      <td>Sales</td>\n",
       "      <td>Sales Executive</td>\n",
       "      <td>Travel_Rarely</td>\n",
       "      <td>14</td>\n",
       "      <td>4</td>\n",
       "      <td>...</td>\n",
       "      <td>4</td>\n",
       "      <td>20</td>\n",
       "      <td>2</td>\n",
       "      <td>3</td>\n",
       "      <td>7</td>\n",
       "      <td>7</td>\n",
       "      <td>1</td>\n",
       "      <td>7</td>\n",
       "      <td>No</td>\n",
       "      <td>3</td>\n",
       "    </tr>\n",
       "    <tr>\n",
       "      <th>2</th>\n",
       "      <td>E1001007</td>\n",
       "      <td>40</td>\n",
       "      <td>Male</td>\n",
       "      <td>Life Sciences</td>\n",
       "      <td>Married</td>\n",
       "      <td>Sales</td>\n",
       "      <td>Sales Executive</td>\n",
       "      <td>Travel_Frequently</td>\n",
       "      <td>5</td>\n",
       "      <td>4</td>\n",
       "      <td>...</td>\n",
       "      <td>3</td>\n",
       "      <td>20</td>\n",
       "      <td>2</td>\n",
       "      <td>3</td>\n",
       "      <td>18</td>\n",
       "      <td>13</td>\n",
       "      <td>1</td>\n",
       "      <td>12</td>\n",
       "      <td>No</td>\n",
       "      <td>4</td>\n",
       "    </tr>\n",
       "    <tr>\n",
       "      <th>3</th>\n",
       "      <td>E1001009</td>\n",
       "      <td>41</td>\n",
       "      <td>Male</td>\n",
       "      <td>Human Resources</td>\n",
       "      <td>Divorced</td>\n",
       "      <td>Human Resources</td>\n",
       "      <td>Manager</td>\n",
       "      <td>Travel_Rarely</td>\n",
       "      <td>10</td>\n",
       "      <td>4</td>\n",
       "      <td>...</td>\n",
       "      <td>2</td>\n",
       "      <td>23</td>\n",
       "      <td>2</td>\n",
       "      <td>2</td>\n",
       "      <td>21</td>\n",
       "      <td>6</td>\n",
       "      <td>12</td>\n",
       "      <td>6</td>\n",
       "      <td>No</td>\n",
       "      <td>3</td>\n",
       "    </tr>\n",
       "    <tr>\n",
       "      <th>4</th>\n",
       "      <td>E1001010</td>\n",
       "      <td>60</td>\n",
       "      <td>Male</td>\n",
       "      <td>Marketing</td>\n",
       "      <td>Single</td>\n",
       "      <td>Sales</td>\n",
       "      <td>Sales Executive</td>\n",
       "      <td>Travel_Rarely</td>\n",
       "      <td>16</td>\n",
       "      <td>4</td>\n",
       "      <td>...</td>\n",
       "      <td>4</td>\n",
       "      <td>10</td>\n",
       "      <td>1</td>\n",
       "      <td>3</td>\n",
       "      <td>2</td>\n",
       "      <td>2</td>\n",
       "      <td>2</td>\n",
       "      <td>2</td>\n",
       "      <td>No</td>\n",
       "      <td>3</td>\n",
       "    </tr>\n",
       "  </tbody>\n",
       "</table>\n",
       "<p>5 rows × 28 columns</p>\n",
       "</div>"
      ],
      "text/plain": [
       "  c_EmpNumber  q_Age c_Gender c_EducationBackground c_MaritalStatus  \\\n",
       "0    E1001000     32     Male             Marketing          Single   \n",
       "1    E1001006     47     Male             Marketing          Single   \n",
       "2    E1001007     40     Male         Life Sciences         Married   \n",
       "3    E1001009     41     Male       Human Resources        Divorced   \n",
       "4    E1001010     60     Male             Marketing          Single   \n",
       "\n",
       "   c_EmpDepartment     c_EmpJobRole c_BusinessTravelFrequency  \\\n",
       "0            Sales  Sales Executive             Travel_Rarely   \n",
       "1            Sales  Sales Executive             Travel_Rarely   \n",
       "2            Sales  Sales Executive         Travel_Frequently   \n",
       "3  Human Resources          Manager             Travel_Rarely   \n",
       "4            Sales  Sales Executive             Travel_Rarely   \n",
       "\n",
       "   q_DistanceFromHome  q_EmpEducationLevel  ...  \\\n",
       "0                  10                    3  ...   \n",
       "1                  14                    4  ...   \n",
       "2                   5                    4  ...   \n",
       "3                  10                    4  ...   \n",
       "4                  16                    4  ...   \n",
       "\n",
       "   q_EmpRelationshipSatisfaction  q_TotalWorkExperienceInYears  \\\n",
       "0                              4                            10   \n",
       "1                              4                            20   \n",
       "2                              3                            20   \n",
       "3                              2                            23   \n",
       "4                              4                            10   \n",
       "\n",
       "   q_TrainingTimesLastYear  q_EmpWorkLifeBalance  \\\n",
       "0                        2                     2   \n",
       "1                        2                     3   \n",
       "2                        2                     3   \n",
       "3                        2                     2   \n",
       "4                        1                     3   \n",
       "\n",
       "   q_ExperienceYearsAtThisCompany  q_ExperienceYearsInCurrentRole  \\\n",
       "0                              10                               7   \n",
       "1                               7                               7   \n",
       "2                              18                              13   \n",
       "3                              21                               6   \n",
       "4                               2                               2   \n",
       "\n",
       "  q_YearsSinceLastPromotion  q_YearsWithCurrManager  c_Attrition  \\\n",
       "0                         0                       8           No   \n",
       "1                         1                       7           No   \n",
       "2                         1                      12           No   \n",
       "3                        12                       6           No   \n",
       "4                         2                       2           No   \n",
       "\n",
       "   y_PerformanceRating  \n",
       "0                    3  \n",
       "1                    3  \n",
       "2                    4  \n",
       "3                    3  \n",
       "4                    3  \n",
       "\n",
       "[5 rows x 28 columns]"
      ]
     },
     "execution_count": 4,
     "metadata": {},
     "output_type": "execute_result"
    }
   ],
   "source": [
    "df1 = pd.read_excel(\"INX_Future_Inc_Employee_Performance_CDS_Project2_Data_V1.8.xls\",names=names)\n",
    "df1.head(5)"
   ]
  },
  {
   "cell_type": "code",
   "execution_count": 5,
   "metadata": {
    "id": "TyaJ8sWDp_K4"
   },
   "outputs": [],
   "source": [
    "# Create All lists\n",
    "AllColumns = ['c_EmpNumber', 'q_Age', 'c_Gender', 'c_EducationBackground',\n",
    "       'c_MaritalStatus', 'c_EmpDepartment', 'c_EmpJobRole',\n",
    "       'c_BusinessTravelFrequency', 'q_DistanceFromHome',\n",
    "       'q_EmpEducationLevel', 'q_EmpEnvironmentSatisfaction',\n",
    "       'q_EmpHourlyRate', 'q_EmpJobInvolvement', 'q_EmpJobLevel',\n",
    "       'q_EmpJobSatisfaction', 'q_NumCompaniesWorked', 'c_OverTime',\n",
    "       'q_EmpLastSalaryHikePercent', 'q_EmpRelationshipSatisfaction',\n",
    "       'q_TotalWorkExperienceInYears', 'q_TrainingTimesLastYear',\n",
    "       'q_EmpWorkLifeBalance', 'q_ExperienceYearsAtThisCompany',\n",
    "       'q_ExperienceYearsInCurrentRole', 'q_YearsSinceLastPromotion',\n",
    "       'q_YearsWithCurrManager', 'c_Attrition', 'y_PerformanceRating']\n",
    "ConVarList= ['q_Age','q_DistanceFromHome','q_EmpEducationLevel', 'q_EmpEnvironmentSatisfaction','q_EmpHourlyRate', 'q_EmpJobInvolvement', 'q_EmpJobLevel',\n",
    "       'q_EmpJobSatisfaction', 'q_NumCompaniesWorked','q_EmpLastSalaryHikePercent', 'q_EmpRelationshipSatisfaction',\n",
    "       'q_TotalWorkExperienceInYears', 'q_TrainingTimesLastYear','q_EmpWorkLifeBalance', 'q_ExperienceYearsAtThisCompany',\n",
    "       'q_ExperienceYearsInCurrentRole', 'q_YearsSinceLastPromotion','q_YearsWithCurrManager']\n",
    "CatVarList=['c_EmpNumber', 'c_Gender', 'c_EducationBackground','c_MaritalStatus', 'c_EmpDepartment', 'c_EmpJobRole',\n",
    "       'c_BusinessTravelFrequency','c_OverTime','c_Attrition']\n",
    "OutcomeVar=['y_PerformanceRating']"
   ]
  },
  {
   "cell_type": "markdown",
   "metadata": {
    "id": "nAxdD1xfp_K5"
   },
   "source": [
    "# Checking normality of varibales - to understand the requirment of tranforming the varibales"
   ]
  },
  {
   "cell_type": "code",
   "execution_count": 6,
   "metadata": {
    "colab": {
     "base_uri": "https://localhost:8080/"
    },
    "id": "WPqdJGW6p_K5",
    "outputId": "22882747-17ba-48d0-f35b-5304ff5394eb"
   },
   "outputs": [
    {
     "name": "stdout",
     "output_type": "stream",
     "text": [
      "              q_Age  q_DistanceFromHome  q_EmpEducationLevel  \\\n",
      "skew       0.384145            0.962956            -0.250974   \n",
      "kurtosis  -0.431000           -0.242017            -0.635594   \n",
      "std        9.087289            8.176636             1.044120   \n",
      "mean      36.918333            9.165833             2.892500   \n",
      "min       18.000000            1.000000             1.000000   \n",
      "median    36.000000            7.000000             3.000000   \n",
      "max       60.000000           29.000000             5.000000   \n",
      "\n",
      "          q_EmpEnvironmentSatisfaction  q_EmpHourlyRate  q_EmpJobInvolvement  \\\n",
      "skew                         -0.307665        -0.035165            -0.557846   \n",
      "kurtosis                     -1.205577        -1.186891             0.368670   \n",
      "std                           1.090599        20.211302             0.707164   \n",
      "mean                          2.715833        65.981667             2.731667   \n",
      "min                           1.000000        30.000000             1.000000   \n",
      "median                        3.000000        66.000000             3.000000   \n",
      "max                           4.000000       100.000000             4.000000   \n",
      "\n",
      "          q_EmpJobLevel  q_EmpJobSatisfaction  q_NumCompaniesWorked  \\\n",
      "skew           1.024053             -0.324276              1.048635   \n",
      "kurtosis       0.386338             -1.223147              0.068863   \n",
      "std            1.107836              1.100888              2.469384   \n",
      "mean           2.067500              2.732500              2.665000   \n",
      "min            1.000000              1.000000              0.000000   \n",
      "median         2.000000              3.000000              2.000000   \n",
      "max            5.000000              4.000000              9.000000   \n",
      "\n",
      "          q_EmpLastSalaryHikePercent  q_EmpRelationshipSatisfaction  \\\n",
      "skew                        0.808654                      -0.318563   \n",
      "kurtosis                   -0.299741                      -1.161828   \n",
      "std                         3.625918                       1.075642   \n",
      "mean                       15.222500                       2.725000   \n",
      "min                        11.000000                       1.000000   \n",
      "median                     14.000000                       3.000000   \n",
      "max                        25.000000                       4.000000   \n",
      "\n",
      "          q_TotalWorkExperienceInYears  q_TrainingTimesLastYear  \\\n",
      "skew                          1.086862                 0.532073   \n",
      "kurtosis                      0.805633                 0.567531   \n",
      "std                           7.797228                 1.263446   \n",
      "mean                         11.330000                 2.785833   \n",
      "min                           0.000000                 0.000000   \n",
      "median                       10.000000                 3.000000   \n",
      "max                          40.000000                 6.000000   \n",
      "\n",
      "          q_EmpWorkLifeBalance  q_ExperienceYearsAtThisCompany  \\\n",
      "skew                 -0.539231                        1.789055   \n",
      "kurtosis              0.396607                        4.057959   \n",
      "std                   0.699374                        6.236899   \n",
      "mean                  2.744167                        7.077500   \n",
      "min                   1.000000                        0.000000   \n",
      "median                3.000000                        5.000000   \n",
      "max                   4.000000                       40.000000   \n",
      "\n",
      "          q_ExperienceYearsInCurrentRole  q_YearsSinceLastPromotion  \\\n",
      "skew                            0.888159                   1.974932   \n",
      "kurtosis                        0.438029                   3.539080   \n",
      "std                             3.613744                   3.221560   \n",
      "mean                            4.291667                   2.194167   \n",
      "min                             0.000000                   0.000000   \n",
      "median                          3.000000                   1.000000   \n",
      "max                            18.000000                  15.000000   \n",
      "\n",
      "          q_YearsWithCurrManager  \n",
      "skew                    0.813158  \n",
      "kurtosis                0.148202  \n",
      "std                     3.541576  \n",
      "mean                    4.105000  \n",
      "min                     0.000000  \n",
      "median                  3.000000  \n",
      "max                    17.000000  \n"
     ]
    }
   ],
   "source": [
    "# Check distribution of continous variables -Age and hours seem normal others are not\n",
    "ConVarStats = df1[ConVarList].agg(['skew','kurtosis','std','mean','min','median','max'])\n",
    "print(ConVarStats)"
   ]
  },
  {
   "cell_type": "code",
   "execution_count": 7,
   "metadata": {
    "colab": {
     "base_uri": "https://localhost:8080/"
    },
    "id": "126u5lVhp_K5",
    "outputId": "84b17811-b7be-426c-f820-3fa1d9178fa9"
   },
   "outputs": [
    {
     "name": "stdout",
     "output_type": "stream",
     "text": [
      "q_Age ShapiroResult(statistic=0.9790340065956116, pvalue=3.55104964530617e-12)\n",
      "q_DistanceFromHome ShapiroResult(statistic=0.8570477366447449, pvalue=1.2257539048354803e-31)\n",
      "q_EmpEducationLevel ShapiroResult(statistic=0.8985532522201538, pvalue=1.9452516439613064e-27)\n",
      "q_EmpEnvironmentSatisfaction ShapiroResult(statistic=0.850751519203186, pvalue=3.4530657895447303e-32)\n",
      "q_EmpHourlyRate ShapiroResult(statistic=0.9559425711631775, pvalue=1.5450358654722188e-18)\n",
      "q_EmpJobInvolvement ShapiroResult(statistic=0.8011738061904907, pvalue=5.6217784152011436e-36)\n",
      "q_EmpJobLevel ShapiroResult(statistic=0.8220618367195129, pvalue=1.7462512706779817e-34)\n",
      "q_EmpJobSatisfaction ShapiroResult(statistic=0.846439778804779, pvalue=1.4856120949618726e-32)\n",
      "q_NumCompaniesWorked ShapiroResult(statistic=0.8463385105133057, pvalue=1.4568277647932872e-32)\n",
      "q_EmpLastSalaryHikePercent ShapiroResult(statistic=0.9041872620582581, pvalue=9.080582502230933e-27)\n",
      "q_EmpRelationshipSatisfaction ShapiroResult(statistic=0.8535107374191284, pvalue=5.984371798122392e-32)\n",
      "q_TotalWorkExperienceInYears ShapiroResult(statistic=0.9103461503982544, pvalue=5.311012823673866e-26)\n",
      "q_TrainingTimesLastYear ShapiroResult(statistic=0.8944612741470337, pvalue=6.618357624047142e-28)\n",
      "q_EmpWorkLifeBalance ShapiroResult(statistic=0.8003828525543213, pvalue=4.9645117691984005e-36)\n",
      "q_ExperienceYearsAtThisCompany ShapiroResult(statistic=0.8360114693641663, pvalue=2.0823842017198514e-33)\n",
      "q_ExperienceYearsInCurrentRole ShapiroResult(statistic=0.8999415636062622, pvalue=2.825836118341727e-27)\n",
      "q_YearsSinceLastPromotion ShapiroResult(statistic=0.7045907974243164, pvalue=1.43647105577937e-41)\n",
      "q_YearsWithCurrManager ShapiroResult(statistic=0.8988459706306458, pvalue=2.103887026806583e-27)\n"
     ]
    }
   ],
   "source": [
    "# The P value > 0.05 for the varible to be normal (In this test null hypothesis is reverse of usual. \n",
    "#None of the variables are normal. We can look at \n",
    "#log transforming those varibales before being fed into the algorithms\n",
    "# None are normal\n",
    "\n",
    "for i in ConVarList:\n",
    "    print(i,stats.shapiro(df1[[i]]))"
   ]
  },
  {
   "cell_type": "markdown",
   "metadata": {
    "id": "IvvS8aZRp_K6"
   },
   "source": [
    "# Box plot of all the varibles - to analyse the possibility of scaling"
   ]
  },
  {
   "cell_type": "code",
   "execution_count": 8,
   "metadata": {
    "colab": {
     "base_uri": "https://localhost:8080/",
     "height": 317
    },
    "id": "wCBGiY1Hp_K6",
    "outputId": "2ada8c81-938b-422f-d5e9-d023d5f01bda"
   },
   "outputs": [
    {
     "data": {
      "text/html": [
       "<div>\n",
       "<style scoped>\n",
       "    .dataframe tbody tr th:only-of-type {\n",
       "        vertical-align: middle;\n",
       "    }\n",
       "\n",
       "    .dataframe tbody tr th {\n",
       "        vertical-align: top;\n",
       "    }\n",
       "\n",
       "    .dataframe thead th {\n",
       "        text-align: right;\n",
       "    }\n",
       "</style>\n",
       "<table border=\"1\" class=\"dataframe\">\n",
       "  <thead>\n",
       "    <tr style=\"text-align: right;\">\n",
       "      <th></th>\n",
       "      <th>q_Age</th>\n",
       "      <th>q_DistanceFromHome</th>\n",
       "      <th>q_EmpEducationLevel</th>\n",
       "      <th>q_EmpEnvironmentSatisfaction</th>\n",
       "      <th>q_EmpHourlyRate</th>\n",
       "      <th>q_EmpJobInvolvement</th>\n",
       "      <th>q_EmpJobLevel</th>\n",
       "      <th>q_EmpJobSatisfaction</th>\n",
       "      <th>q_NumCompaniesWorked</th>\n",
       "      <th>q_EmpLastSalaryHikePercent</th>\n",
       "      <th>q_EmpRelationshipSatisfaction</th>\n",
       "      <th>q_TotalWorkExperienceInYears</th>\n",
       "      <th>q_TrainingTimesLastYear</th>\n",
       "      <th>q_EmpWorkLifeBalance</th>\n",
       "      <th>q_ExperienceYearsAtThisCompany</th>\n",
       "      <th>q_ExperienceYearsInCurrentRole</th>\n",
       "      <th>q_YearsSinceLastPromotion</th>\n",
       "      <th>q_YearsWithCurrManager</th>\n",
       "    </tr>\n",
       "  </thead>\n",
       "  <tbody>\n",
       "    <tr>\n",
       "      <th>count</th>\n",
       "      <td>1200.000000</td>\n",
       "      <td>1200.000000</td>\n",
       "      <td>1200.00000</td>\n",
       "      <td>1200.000000</td>\n",
       "      <td>1200.000000</td>\n",
       "      <td>1200.000000</td>\n",
       "      <td>1200.000000</td>\n",
       "      <td>1200.000000</td>\n",
       "      <td>1200.000000</td>\n",
       "      <td>1200.000000</td>\n",
       "      <td>1200.000000</td>\n",
       "      <td>1200.000000</td>\n",
       "      <td>1200.000000</td>\n",
       "      <td>1200.000000</td>\n",
       "      <td>1200.000000</td>\n",
       "      <td>1200.000000</td>\n",
       "      <td>1200.000000</td>\n",
       "      <td>1200.000000</td>\n",
       "    </tr>\n",
       "    <tr>\n",
       "      <th>mean</th>\n",
       "      <td>36.918333</td>\n",
       "      <td>9.165833</td>\n",
       "      <td>2.89250</td>\n",
       "      <td>2.715833</td>\n",
       "      <td>65.981667</td>\n",
       "      <td>2.731667</td>\n",
       "      <td>2.067500</td>\n",
       "      <td>2.732500</td>\n",
       "      <td>2.665000</td>\n",
       "      <td>15.222500</td>\n",
       "      <td>2.725000</td>\n",
       "      <td>11.330000</td>\n",
       "      <td>2.785833</td>\n",
       "      <td>2.744167</td>\n",
       "      <td>7.077500</td>\n",
       "      <td>4.291667</td>\n",
       "      <td>2.194167</td>\n",
       "      <td>4.105000</td>\n",
       "    </tr>\n",
       "    <tr>\n",
       "      <th>std</th>\n",
       "      <td>9.087289</td>\n",
       "      <td>8.176636</td>\n",
       "      <td>1.04412</td>\n",
       "      <td>1.090599</td>\n",
       "      <td>20.211302</td>\n",
       "      <td>0.707164</td>\n",
       "      <td>1.107836</td>\n",
       "      <td>1.100888</td>\n",
       "      <td>2.469384</td>\n",
       "      <td>3.625918</td>\n",
       "      <td>1.075642</td>\n",
       "      <td>7.797228</td>\n",
       "      <td>1.263446</td>\n",
       "      <td>0.699374</td>\n",
       "      <td>6.236899</td>\n",
       "      <td>3.613744</td>\n",
       "      <td>3.221560</td>\n",
       "      <td>3.541576</td>\n",
       "    </tr>\n",
       "    <tr>\n",
       "      <th>min</th>\n",
       "      <td>18.000000</td>\n",
       "      <td>1.000000</td>\n",
       "      <td>1.00000</td>\n",
       "      <td>1.000000</td>\n",
       "      <td>30.000000</td>\n",
       "      <td>1.000000</td>\n",
       "      <td>1.000000</td>\n",
       "      <td>1.000000</td>\n",
       "      <td>0.000000</td>\n",
       "      <td>11.000000</td>\n",
       "      <td>1.000000</td>\n",
       "      <td>0.000000</td>\n",
       "      <td>0.000000</td>\n",
       "      <td>1.000000</td>\n",
       "      <td>0.000000</td>\n",
       "      <td>0.000000</td>\n",
       "      <td>0.000000</td>\n",
       "      <td>0.000000</td>\n",
       "    </tr>\n",
       "    <tr>\n",
       "      <th>25%</th>\n",
       "      <td>30.000000</td>\n",
       "      <td>2.000000</td>\n",
       "      <td>2.00000</td>\n",
       "      <td>2.000000</td>\n",
       "      <td>48.000000</td>\n",
       "      <td>2.000000</td>\n",
       "      <td>1.000000</td>\n",
       "      <td>2.000000</td>\n",
       "      <td>1.000000</td>\n",
       "      <td>12.000000</td>\n",
       "      <td>2.000000</td>\n",
       "      <td>6.000000</td>\n",
       "      <td>2.000000</td>\n",
       "      <td>2.000000</td>\n",
       "      <td>3.000000</td>\n",
       "      <td>2.000000</td>\n",
       "      <td>0.000000</td>\n",
       "      <td>2.000000</td>\n",
       "    </tr>\n",
       "    <tr>\n",
       "      <th>50%</th>\n",
       "      <td>36.000000</td>\n",
       "      <td>7.000000</td>\n",
       "      <td>3.00000</td>\n",
       "      <td>3.000000</td>\n",
       "      <td>66.000000</td>\n",
       "      <td>3.000000</td>\n",
       "      <td>2.000000</td>\n",
       "      <td>3.000000</td>\n",
       "      <td>2.000000</td>\n",
       "      <td>14.000000</td>\n",
       "      <td>3.000000</td>\n",
       "      <td>10.000000</td>\n",
       "      <td>3.000000</td>\n",
       "      <td>3.000000</td>\n",
       "      <td>5.000000</td>\n",
       "      <td>3.000000</td>\n",
       "      <td>1.000000</td>\n",
       "      <td>3.000000</td>\n",
       "    </tr>\n",
       "    <tr>\n",
       "      <th>75%</th>\n",
       "      <td>43.000000</td>\n",
       "      <td>14.000000</td>\n",
       "      <td>4.00000</td>\n",
       "      <td>4.000000</td>\n",
       "      <td>83.000000</td>\n",
       "      <td>3.000000</td>\n",
       "      <td>3.000000</td>\n",
       "      <td>4.000000</td>\n",
       "      <td>4.000000</td>\n",
       "      <td>18.000000</td>\n",
       "      <td>4.000000</td>\n",
       "      <td>15.000000</td>\n",
       "      <td>3.000000</td>\n",
       "      <td>3.000000</td>\n",
       "      <td>10.000000</td>\n",
       "      <td>7.000000</td>\n",
       "      <td>3.000000</td>\n",
       "      <td>7.000000</td>\n",
       "    </tr>\n",
       "    <tr>\n",
       "      <th>max</th>\n",
       "      <td>60.000000</td>\n",
       "      <td>29.000000</td>\n",
       "      <td>5.00000</td>\n",
       "      <td>4.000000</td>\n",
       "      <td>100.000000</td>\n",
       "      <td>4.000000</td>\n",
       "      <td>5.000000</td>\n",
       "      <td>4.000000</td>\n",
       "      <td>9.000000</td>\n",
       "      <td>25.000000</td>\n",
       "      <td>4.000000</td>\n",
       "      <td>40.000000</td>\n",
       "      <td>6.000000</td>\n",
       "      <td>4.000000</td>\n",
       "      <td>40.000000</td>\n",
       "      <td>18.000000</td>\n",
       "      <td>15.000000</td>\n",
       "      <td>17.000000</td>\n",
       "    </tr>\n",
       "  </tbody>\n",
       "</table>\n",
       "</div>"
      ],
      "text/plain": [
       "             q_Age  q_DistanceFromHome  q_EmpEducationLevel  \\\n",
       "count  1200.000000         1200.000000           1200.00000   \n",
       "mean     36.918333            9.165833              2.89250   \n",
       "std       9.087289            8.176636              1.04412   \n",
       "min      18.000000            1.000000              1.00000   \n",
       "25%      30.000000            2.000000              2.00000   \n",
       "50%      36.000000            7.000000              3.00000   \n",
       "75%      43.000000           14.000000              4.00000   \n",
       "max      60.000000           29.000000              5.00000   \n",
       "\n",
       "       q_EmpEnvironmentSatisfaction  q_EmpHourlyRate  q_EmpJobInvolvement  \\\n",
       "count                   1200.000000      1200.000000          1200.000000   \n",
       "mean                       2.715833        65.981667             2.731667   \n",
       "std                        1.090599        20.211302             0.707164   \n",
       "min                        1.000000        30.000000             1.000000   \n",
       "25%                        2.000000        48.000000             2.000000   \n",
       "50%                        3.000000        66.000000             3.000000   \n",
       "75%                        4.000000        83.000000             3.000000   \n",
       "max                        4.000000       100.000000             4.000000   \n",
       "\n",
       "       q_EmpJobLevel  q_EmpJobSatisfaction  q_NumCompaniesWorked  \\\n",
       "count    1200.000000           1200.000000           1200.000000   \n",
       "mean        2.067500              2.732500              2.665000   \n",
       "std         1.107836              1.100888              2.469384   \n",
       "min         1.000000              1.000000              0.000000   \n",
       "25%         1.000000              2.000000              1.000000   \n",
       "50%         2.000000              3.000000              2.000000   \n",
       "75%         3.000000              4.000000              4.000000   \n",
       "max         5.000000              4.000000              9.000000   \n",
       "\n",
       "       q_EmpLastSalaryHikePercent  q_EmpRelationshipSatisfaction  \\\n",
       "count                 1200.000000                    1200.000000   \n",
       "mean                    15.222500                       2.725000   \n",
       "std                      3.625918                       1.075642   \n",
       "min                     11.000000                       1.000000   \n",
       "25%                     12.000000                       2.000000   \n",
       "50%                     14.000000                       3.000000   \n",
       "75%                     18.000000                       4.000000   \n",
       "max                     25.000000                       4.000000   \n",
       "\n",
       "       q_TotalWorkExperienceInYears  q_TrainingTimesLastYear  \\\n",
       "count                   1200.000000              1200.000000   \n",
       "mean                      11.330000                 2.785833   \n",
       "std                        7.797228                 1.263446   \n",
       "min                        0.000000                 0.000000   \n",
       "25%                        6.000000                 2.000000   \n",
       "50%                       10.000000                 3.000000   \n",
       "75%                       15.000000                 3.000000   \n",
       "max                       40.000000                 6.000000   \n",
       "\n",
       "       q_EmpWorkLifeBalance  q_ExperienceYearsAtThisCompany  \\\n",
       "count           1200.000000                     1200.000000   \n",
       "mean               2.744167                        7.077500   \n",
       "std                0.699374                        6.236899   \n",
       "min                1.000000                        0.000000   \n",
       "25%                2.000000                        3.000000   \n",
       "50%                3.000000                        5.000000   \n",
       "75%                3.000000                       10.000000   \n",
       "max                4.000000                       40.000000   \n",
       "\n",
       "       q_ExperienceYearsInCurrentRole  q_YearsSinceLastPromotion  \\\n",
       "count                     1200.000000                1200.000000   \n",
       "mean                         4.291667                   2.194167   \n",
       "std                          3.613744                   3.221560   \n",
       "min                          0.000000                   0.000000   \n",
       "25%                          2.000000                   0.000000   \n",
       "50%                          3.000000                   1.000000   \n",
       "75%                          7.000000                   3.000000   \n",
       "max                         18.000000                  15.000000   \n",
       "\n",
       "       q_YearsWithCurrManager  \n",
       "count             1200.000000  \n",
       "mean                 4.105000  \n",
       "std                  3.541576  \n",
       "min                  0.000000  \n",
       "25%                  2.000000  \n",
       "50%                  3.000000  \n",
       "75%                  7.000000  \n",
       "max                 17.000000  "
      ]
     },
     "execution_count": 8,
     "metadata": {},
     "output_type": "execute_result"
    }
   ],
   "source": [
    "df1[ConVarList].describe()"
   ]
  },
  {
   "cell_type": "code",
   "execution_count": 13,
   "metadata": {
    "colab": {
     "base_uri": "https://localhost:8080/",
     "height": 501
    },
    "id": "Qny497Czp_K7",
    "outputId": "9913f47d-f6a0-4d81-e315-0e4dad206857"
   },
   "outputs": [
    {
     "data": {
      "text/plain": [
       "<matplotlib.axes._subplots.AxesSubplot at 0x18f20368a60>"
      ]
     },
     "execution_count": 13,
     "metadata": {},
     "output_type": "execute_result"
    },
    {
     "data": {
      "image/png": "[encoded data removed]",
      "text/plain": [
       "<Figure size 3600x648 with 1 Axes>"
      ]
     },
     "metadata": {
      "needs_background": "light"
     },
     "output_type": "display_data"
    }
   ],
   "source": [
    "# the magnitude of variations between varibales is  huge. Variables have to be scaled.\n",
    "rcParams['figure.figsize'] =50,9\n",
    "df1[ConVarList].boxplot()"
   ]
  },
  {
   "cell_type": "markdown",
   "metadata": {
    "id": "ahZPX6ySp_K7"
   },
   "source": [
    "# Basic Pie chart of outcome variable"
   ]
  },
  {
   "cell_type": "code",
   "execution_count": 14,
   "metadata": {
    "colab": {
     "base_uri": "https://localhost:8080/",
     "height": 303
    },
    "id": "lIZf3ZIYp_K8",
    "outputId": "c2a45cc4-d1c5-447d-a1f9-d81e72fbd87e"
   },
   "outputs": [
    {
     "data": {
      "image/png": "[encoded data removed]",
      "text/plain": [
       "<Figure size 720x360 with 1 Axes>"
      ]
     },
     "metadata": {},
     "output_type": "display_data"
    }
   ],
   "source": [
    "rcParams['figure.figsize'] =10,5\n",
    "df1.y_PerformanceRating.value_counts(sort=False).plot.pie(labels=[\"2\",'3','4'],legend = True, autopct='%1.1f%%',shadow=False)\n",
    "plt.show()"
   ]
  },
  {
   "cell_type": "code",
   "execution_count": 15,
   "metadata": {
    "colab": {
     "base_uri": "https://localhost:8080/"
    },
    "id": "b9v76z465zRf",
    "outputId": "fdaaa926-0303-42a3-dc9c-e4ae600a3372"
   },
   "outputs": [
    {
     "data": {
      "text/plain": [
       "Sales Executive              270\n",
       "Developer                    236\n",
       "Manager R&D                   94\n",
       "Research Scientist            77\n",
       "Sales Representative          69\n",
       "Laboratory Technician         64\n",
       "Senior Developer              52\n",
       "Manager                       51\n",
       "Finance Manager               49\n",
       "Human Resources               45\n",
       "Technical Lead                38\n",
       "Manufacturing Director        33\n",
       "Healthcare Representative     33\n",
       "Data Scientist                20\n",
       "Research Director             19\n",
       "Business Analyst              16\n",
       "Senior Manager R&D            15\n",
       "Delivery Manager              12\n",
       "Technical Architect            7\n",
       "Name: c_EmpJobRole, dtype: int64"
      ]
     },
     "execution_count": 15,
     "metadata": {},
     "output_type": "execute_result"
    }
   ],
   "source": [
    "df1.c_EmpJobRole.value_counts()"
   ]
  },
  {
   "cell_type": "code",
   "execution_count": 51,
   "metadata": {
    "colab": {
     "base_uri": "https://localhost:8080/",
     "height": 303
    },
    "id": "KyV_jEvW5Cg_",
    "outputId": "2d34106e-b0f3-4621-b320-a239dbc9855f"
   },
   "outputs": [
    {
     "data": {
      "image/png": "[encoded data removed]",
      "text/plain": [
       "<Figure size 720x576 with 1 Axes>"
      ]
     },
     "metadata": {},
     "output_type": "display_data"
    }
   ],
   "source": [
    "rcParams['figure.figsize'] =10,8\n",
    "df1.c_EmpDepartment.value_counts(sort=False).plot.pie(labels=[\"Sales\",\"Development\",\"Research & Development\",\"Human Resources\", \"Finance\", \"Data Scientist\"],legend = True, autopct='%1.1f%%',shadow=False)\n",
    "plt.show()"
   ]
  },
  {
   "cell_type": "markdown",
   "metadata": {
    "colab": {
     "base_uri": "https://localhost:8080/"
    },
    "id": "X4GQAbCop_K8",
    "outputId": "bcdb3dac-5864-4af7-985c-f82bebf7fbb0"
   },
   "source": [
    "## Look actual nos"
   ]
  },
  {
   "cell_type": "code",
   "execution_count": 26,
   "metadata": {},
   "outputs": [
    {
     "data": {
      "text/plain": [
       "Counter({3: 874, 4: 132, 2: 194})"
      ]
     },
     "execution_count": 26,
     "metadata": {},
     "output_type": "execute_result"
    }
   ],
   "source": [
    "Counter(df1.y_PerformanceRating)"
   ]
  },
  {
   "cell_type": "markdown",
   "metadata": {
    "id": "ZBtkSuzUp_K8"
   },
   "source": [
    "# Assessing Age\n",
    "Use this techinique to analyse each continuous predictor with outcome variable"
   ]
  },
  {
   "cell_type": "code",
   "execution_count": 27,
   "metadata": {
    "colab": {
     "base_uri": "https://localhost:8080/"
    },
    "id": "pLwrBIjPp_K9",
    "outputId": "80acb4a2-c098-42eb-c466-ad09e168f61a"
   },
   "outputs": [
    {
     "data": {
      "text/plain": [
       "count    1200.000000\n",
       "mean       36.918333\n",
       "std         9.087289\n",
       "min        18.000000\n",
       "25%        30.000000\n",
       "50%        36.000000\n",
       "75%        43.000000\n",
       "max        60.000000\n",
       "Name: q_Age, dtype: float64"
      ]
     },
     "execution_count": 27,
     "metadata": {},
     "output_type": "execute_result"
    }
   ],
   "source": [
    "df1['q_Age'].describe()"
   ]
  },
  {
   "cell_type": "code",
   "execution_count": 28,
   "metadata": {
    "id": "Vo0b8OvCp_K9"
   },
   "outputs": [],
   "source": [
    "# Converting age into into Bins( 50 Days each). Check the frequency of each bin\n",
    "custom_bucket_array = np.linspace(15, 90, 16)\n",
    "df1['q_age_bin'] = pd.cut(df1['q_Age'], custom_bucket_array)"
   ]
  },
  {
   "cell_type": "code",
   "execution_count": 31,
   "metadata": {
    "colab": {
     "base_uri": "https://localhost:8080/",
     "height": 540
    },
    "id": "eqJoJov6p_K9",
    "outputId": "ed41c92a-d570-4d65-a242-61cb2a5f002c"
   },
   "outputs": [
    {
     "name": "stdout",
     "output_type": "stream",
     "text": [
      "y_PerformanceRating   2    3   4\n",
      "q_age_bin                       \n",
      "(15.0, 20.0]          0   17   5\n",
      "(20.0, 25.0]         16   55   8\n",
      "(25.0, 30.0]         28  156  24\n",
      "(30.0, 35.0]         47  213  24\n",
      "(35.0, 40.0]         36  158  32\n",
      "(40.0, 45.0]         25  116  19\n",
      "(45.0, 50.0]         19   82   8\n",
      "(50.0, 55.0]         15   56   6\n",
      "(55.0, 60.0]          8   21   6\n"
     ]
    },
    {
     "data": {
      "text/plain": [
       "<matplotlib.axes._subplots.AxesSubplot at 0x18f22169ac0>"
      ]
     },
     "execution_count": 31,
     "metadata": {},
     "output_type": "execute_result"
    },
    {
     "data": {
      "image/png": "[encoded data removed]",
      "text/plain": [
       "<Figure size 432x288 with 1 Axes>"
      ]
     },
     "metadata": {
      "needs_background": "light"
     },
     "output_type": "display_data"
    }
   ],
   "source": [
    "# Write your observation from analysis\n",
    "Crosstab_AL = pd.crosstab(df1.q_age_bin, df1.y_PerformanceRating)\n",
    "print(Crosstab_AL)\n",
    "Crosstab_AL.plot(kind='barh', stacked=False, grid=True, title=\"Age Vs Salary\")"
   ]
  },
  {
   "cell_type": "code",
   "execution_count": 32,
   "metadata": {
    "colab": {
     "base_uri": "https://localhost:8080/",
     "height": 309
    },
    "id": "U9WLZeDip_K-",
    "outputId": "813d3dae-c04b-4857-eb5a-3a694ebea4f1"
   },
   "outputs": [
    {
     "data": {
      "text/html": [
       "<div>\n",
       "<style scoped>\n",
       "    .dataframe tbody tr th:only-of-type {\n",
       "        vertical-align: middle;\n",
       "    }\n",
       "\n",
       "    .dataframe tbody tr th {\n",
       "        vertical-align: top;\n",
       "    }\n",
       "\n",
       "    .dataframe thead th {\n",
       "        text-align: right;\n",
       "    }\n",
       "</style>\n",
       "<table border=\"1\" class=\"dataframe\">\n",
       "  <thead>\n",
       "    <tr style=\"text-align: right;\">\n",
       "      <th></th>\n",
       "      <th>c_Attrition</th>\n",
       "      <th>c_BusinessTravelFrequency</th>\n",
       "      <th>c_EducationBackground</th>\n",
       "      <th>c_EmpDepartment</th>\n",
       "      <th>c_EmpJobRole</th>\n",
       "      <th>c_EmpNumber</th>\n",
       "      <th>c_Gender</th>\n",
       "      <th>c_MaritalStatus</th>\n",
       "      <th>c_OverTime</th>\n",
       "      <th>q_Age</th>\n",
       "      <th>...</th>\n",
       "      <th>q_EmpRelationshipSatisfaction</th>\n",
       "      <th>q_EmpWorkLifeBalance</th>\n",
       "      <th>q_ExperienceYearsAtThisCompany</th>\n",
       "      <th>q_ExperienceYearsInCurrentRole</th>\n",
       "      <th>q_NumCompaniesWorked</th>\n",
       "      <th>q_TotalWorkExperienceInYears</th>\n",
       "      <th>q_TrainingTimesLastYear</th>\n",
       "      <th>q_YearsSinceLastPromotion</th>\n",
       "      <th>q_YearsWithCurrManager</th>\n",
       "      <th>y_PerformanceRating</th>\n",
       "    </tr>\n",
       "  </thead>\n",
       "  <tbody>\n",
       "    <tr>\n",
       "      <th>0</th>\n",
       "      <td>No</td>\n",
       "      <td>Travel_Rarely</td>\n",
       "      <td>Marketing</td>\n",
       "      <td>Sales</td>\n",
       "      <td>Sales Executive</td>\n",
       "      <td>E1001000</td>\n",
       "      <td>Male</td>\n",
       "      <td>Single</td>\n",
       "      <td>No</td>\n",
       "      <td>32</td>\n",
       "      <td>...</td>\n",
       "      <td>4</td>\n",
       "      <td>2</td>\n",
       "      <td>10</td>\n",
       "      <td>7</td>\n",
       "      <td>1</td>\n",
       "      <td>10</td>\n",
       "      <td>2</td>\n",
       "      <td>0</td>\n",
       "      <td>8</td>\n",
       "      <td>3</td>\n",
       "    </tr>\n",
       "    <tr>\n",
       "      <th>1</th>\n",
       "      <td>No</td>\n",
       "      <td>Travel_Rarely</td>\n",
       "      <td>Marketing</td>\n",
       "      <td>Sales</td>\n",
       "      <td>Sales Executive</td>\n",
       "      <td>E1001006</td>\n",
       "      <td>Male</td>\n",
       "      <td>Single</td>\n",
       "      <td>No</td>\n",
       "      <td>47</td>\n",
       "      <td>...</td>\n",
       "      <td>4</td>\n",
       "      <td>3</td>\n",
       "      <td>7</td>\n",
       "      <td>7</td>\n",
       "      <td>2</td>\n",
       "      <td>20</td>\n",
       "      <td>2</td>\n",
       "      <td>1</td>\n",
       "      <td>7</td>\n",
       "      <td>3</td>\n",
       "    </tr>\n",
       "    <tr>\n",
       "      <th>2</th>\n",
       "      <td>No</td>\n",
       "      <td>Travel_Frequently</td>\n",
       "      <td>Life Sciences</td>\n",
       "      <td>Sales</td>\n",
       "      <td>Sales Executive</td>\n",
       "      <td>E1001007</td>\n",
       "      <td>Male</td>\n",
       "      <td>Married</td>\n",
       "      <td>Yes</td>\n",
       "      <td>40</td>\n",
       "      <td>...</td>\n",
       "      <td>3</td>\n",
       "      <td>3</td>\n",
       "      <td>18</td>\n",
       "      <td>13</td>\n",
       "      <td>5</td>\n",
       "      <td>20</td>\n",
       "      <td>2</td>\n",
       "      <td>1</td>\n",
       "      <td>12</td>\n",
       "      <td>4</td>\n",
       "    </tr>\n",
       "    <tr>\n",
       "      <th>3</th>\n",
       "      <td>No</td>\n",
       "      <td>Travel_Rarely</td>\n",
       "      <td>Human Resources</td>\n",
       "      <td>Human Resources</td>\n",
       "      <td>Manager</td>\n",
       "      <td>E1001009</td>\n",
       "      <td>Male</td>\n",
       "      <td>Divorced</td>\n",
       "      <td>No</td>\n",
       "      <td>41</td>\n",
       "      <td>...</td>\n",
       "      <td>2</td>\n",
       "      <td>2</td>\n",
       "      <td>21</td>\n",
       "      <td>6</td>\n",
       "      <td>3</td>\n",
       "      <td>23</td>\n",
       "      <td>2</td>\n",
       "      <td>12</td>\n",
       "      <td>6</td>\n",
       "      <td>3</td>\n",
       "    </tr>\n",
       "    <tr>\n",
       "      <th>4</th>\n",
       "      <td>No</td>\n",
       "      <td>Travel_Rarely</td>\n",
       "      <td>Marketing</td>\n",
       "      <td>Sales</td>\n",
       "      <td>Sales Executive</td>\n",
       "      <td>E1001010</td>\n",
       "      <td>Male</td>\n",
       "      <td>Single</td>\n",
       "      <td>No</td>\n",
       "      <td>60</td>\n",
       "      <td>...</td>\n",
       "      <td>4</td>\n",
       "      <td>3</td>\n",
       "      <td>2</td>\n",
       "      <td>2</td>\n",
       "      <td>8</td>\n",
       "      <td>10</td>\n",
       "      <td>1</td>\n",
       "      <td>2</td>\n",
       "      <td>2</td>\n",
       "      <td>3</td>\n",
       "    </tr>\n",
       "  </tbody>\n",
       "</table>\n",
       "<p>5 rows × 28 columns</p>\n",
       "</div>"
      ],
      "text/plain": [
       "  c_Attrition c_BusinessTravelFrequency c_EducationBackground  \\\n",
       "0          No             Travel_Rarely             Marketing   \n",
       "1          No             Travel_Rarely             Marketing   \n",
       "2          No         Travel_Frequently         Life Sciences   \n",
       "3          No             Travel_Rarely       Human Resources   \n",
       "4          No             Travel_Rarely             Marketing   \n",
       "\n",
       "   c_EmpDepartment     c_EmpJobRole c_EmpNumber c_Gender c_MaritalStatus  \\\n",
       "0            Sales  Sales Executive    E1001000     Male          Single   \n",
       "1            Sales  Sales Executive    E1001006     Male          Single   \n",
       "2            Sales  Sales Executive    E1001007     Male         Married   \n",
       "3  Human Resources          Manager    E1001009     Male        Divorced   \n",
       "4            Sales  Sales Executive    E1001010     Male          Single   \n",
       "\n",
       "  c_OverTime  q_Age  ...  q_EmpRelationshipSatisfaction  q_EmpWorkLifeBalance  \\\n",
       "0         No     32  ...                              4                     2   \n",
       "1         No     47  ...                              4                     3   \n",
       "2        Yes     40  ...                              3                     3   \n",
       "3         No     41  ...                              2                     2   \n",
       "4         No     60  ...                              4                     3   \n",
       "\n",
       "   q_ExperienceYearsAtThisCompany  q_ExperienceYearsInCurrentRole  \\\n",
       "0                              10                               7   \n",
       "1                               7                               7   \n",
       "2                              18                              13   \n",
       "3                              21                               6   \n",
       "4                               2                               2   \n",
       "\n",
       "   q_NumCompaniesWorked  q_TotalWorkExperienceInYears  \\\n",
       "0                     1                            10   \n",
       "1                     2                            20   \n",
       "2                     5                            20   \n",
       "3                     3                            23   \n",
       "4                     8                            10   \n",
       "\n",
       "   q_TrainingTimesLastYear  q_YearsSinceLastPromotion  q_YearsWithCurrManager  \\\n",
       "0                        2                          0                       8   \n",
       "1                        2                          1                       7   \n",
       "2                        2                          1                      12   \n",
       "3                        2                         12                       6   \n",
       "4                        1                          2                       2   \n",
       "\n",
       "   y_PerformanceRating  \n",
       "0                    3  \n",
       "1                    3  \n",
       "2                    4  \n",
       "3                    3  \n",
       "4                    3  \n",
       "\n",
       "[5 rows x 28 columns]"
      ]
     },
     "execution_count": 32,
     "metadata": {},
     "output_type": "execute_result"
    }
   ],
   "source": [
    "# Delete the temporary columns created\n",
    "DeletColList = ['q_age_bin']\n",
    "\n",
    "# Delete the listed columns / features\n",
    "df1.drop(DeletColList, inplace=True, axis=1)\n",
    "\n",
    "#Index the columns to group catagorical, continous and outcome separately\n",
    "df1=df1.sort_index(axis=1)\n",
    "\n",
    "\n",
    "df1.head()"
   ]
  },
  {
   "cell_type": "markdown",
   "metadata": {
    "id": "TeHMT2zUp_K-"
   },
   "source": [
    "# Analyse Employee Job Role with Employee performance Rate"
   ]
  },
  {
   "cell_type": "code",
   "execution_count": 33,
   "metadata": {
    "colab": {
     "base_uri": "https://localhost:8080/",
     "height": 981
    },
    "id": "GPolXkb5p_K_",
    "outputId": "7d33ec87-2fa1-4460-e0aa-a2480a72cbb7"
   },
   "outputs": [
    {
     "name": "stdout",
     "output_type": "stream",
     "text": [
      "y_PerformanceRating             2        3       4\n",
      "c_EmpJobRole                                      \n",
      "Business Analyst           0.0000   1.0833  0.2500\n",
      "Data Scientist             0.0833   1.4167  0.1667\n",
      "Delivery Manager           0.0000   1.0000  0.0000\n",
      "Developer                  0.5000  16.5833  2.5833\n",
      "Finance Manager            1.2500   2.5000  0.3333\n",
      "Healthcare Representative  0.6667   1.8333  0.2500\n",
      "Human Resources            0.7500   2.5833  0.4167\n",
      "Laboratory Technician      1.1667   3.7500  0.4167\n",
      "Manager                    1.0000   2.4167  0.8333\n",
      "Manager R&D                1.4167   5.5000  0.9167\n",
      "Manufacturing Director     0.2500   2.3333  0.1667\n",
      "Research Director          0.4167   0.9167  0.2500\n",
      "Research Scientist         1.4167   3.8333  1.1667\n",
      "Sales Executive            5.3333  15.0833  2.0833\n",
      "Sales Representative       1.0000   4.5000  0.2500\n",
      "Senior Developer           0.5000   3.3333  0.5000\n",
      "Senior Manager R&D         0.3333   0.8333  0.0833\n",
      "Technical Architect        0.0000   0.5833  0.0000\n",
      "Technical Lead             0.0833   2.7500  0.3333\n"
     ]
    },
    {
     "data": {
      "text/plain": [
       "<matplotlib.axes._subplots.AxesSubplot at 0x18f205243d0>"
      ]
     },
     "execution_count": 33,
     "metadata": {},
     "output_type": "execute_result"
    },
    {
     "data": {
      "image/png": "[encoded data removed]",
      "text/plain": [
       "<Figure size 1440x720 with 1 Axes>"
      ]
     },
     "metadata": {
      "needs_background": "light"
     },
     "output_type": "display_data"
    }
   ],
   "source": [
    " # Write your observation. Add another variable to get a groupby affect of frequencies e.g. [df1.c_workclass,df1.c_education]\n",
    "\n",
    "rcParams['figure.figsize'] =20,10\n",
    "Crosstab_Cat = pd.crosstab([df1.c_EmpJobRole], df1.y_PerformanceRating,normalize = 'all').round(6)*100\n",
    "print(Crosstab_Cat)\n",
    "Crosstab_Cat.plot(kind='barh', stacked=False, grid=True,title=\"Emp Job Role Vs Emp Performance Rate band: Calculated as % Overall records\")"
   ]
  },
  {
   "cell_type": "code",
   "execution_count": 34,
   "metadata": {
    "id": "bG6m5Fpcp_K_"
   },
   "outputs": [],
   "source": [
    "# Masked after saving\n",
    "df1.to_csv(\"3_Emp_performance_EDA.csv\",index=False)"
   ]
  },
  {
   "cell_type": "code",
   "execution_count": 38,
   "metadata": {
    "colab": {
     "base_uri": "https://localhost:8080/",
     "height": 1000
    },
    "id": "dX6METkmp_K_",
    "outputId": "6d89444f-03d4-4060-9e48-a941e766b8ee"
   },
   "outputs": [
    {
     "name": "stdout",
     "output_type": "stream",
     "text": [
      "y_PerformanceRating         2        3       4\n",
      "c_EducationBackground                         \n",
      "Human Resources        0.2500   1.3333  0.1667\n",
      "Life Sciences          6.5000  29.7500  4.7500\n",
      "Marketing              2.4167   7.8333  1.1667\n",
      "Medical                5.2500  23.4167  3.3333\n",
      "Other                  0.2500   4.6667  0.5833\n",
      "Technical Degree       1.5000   5.8333  1.0000\n"
     ]
    },
    {
     "data": {
      "text/plain": [
       "<matplotlib.axes._subplots.AxesSubplot at 0x18f204a7b50>"
      ]
     },
     "execution_count": 38,
     "metadata": {},
     "output_type": "execute_result"
    },
    {
     "data": {
      "image/png": "[encoded data removed]",
      "text/plain": [
       "<Figure size 720x360 with 1 Axes>"
      ]
     },
     "metadata": {
      "needs_background": "light"
     },
     "output_type": "display_data"
    }
   ],
   "source": [
    "# Add another variable to get a groupby affect of frequencies e.g. [df1.c_empjobrole,df1.c_empeducationbackround]\n",
    "\n",
    "rcParams['figure.figsize'] =10,5\n",
    "Crosstab_Cat = pd.crosstab([df1.c_EducationBackground], df1.y_PerformanceRating,normalize = 'all').round(6)*100\n",
    "print(Crosstab_Cat)\n",
    "Crosstab_Cat.plot(kind='barh', stacked=False, grid=True,title=\"Education Vs Salary band: Calculated as % Overall records\")"
   ]
  }
 ],
 "metadata": {
  "colab": {
   "name": "2_data_exploratory_analysis and data_visualization.ipynb",
   "provenance": []
  },
  "kernelspec": {
   "display_name": "Python 3",
   "language": "python",
   "name": "python3"
  },
  "language_info": {
   "codemirror_mode": {
    "name": "ipython",
    "version": 3
   },
   "file_extension": ".py",
   "mimetype": "text/x-python",
   "name": "python",
   "nbconvert_exporter": "python",
   "pygments_lexer": "ipython3",
   "version": "3.8.3"
  }
 },
 "nbformat": 4,
 "nbformat_minor": 1
}
