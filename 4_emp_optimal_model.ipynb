{
 "cells": [
  {
   "cell_type": "code",
   "execution_count": 1,
   "metadata": {},
   "outputs": [],
   "source": [
    "import pandas as pd\n",
    "import numpy as np\n",
    "#import researchpy as rp\n",
    "from scipy import stats\n",
    "\n",
    "import matplotlib.pyplot as plt\n",
    "#import pydotplus\n",
    "from matplotlib import rcParams\n",
    "import seaborn as sb"
   ]
  },
  {
   "cell_type": "code",
   "execution_count": 2,
   "metadata": {},
   "outputs": [],
   "source": [
    "# # Find no. of factors in y\n",
    "from collections import Counter\n",
    "# #label encoding\n",
    "from sklearn.preprocessing import LabelEncoder, scale, MinMaxScaler, StandardScaler,OneHotEncoder,LabelBinarizer\n",
    "#from sklearn.decomposition import PCA"
   ]
  },
  {
   "cell_type": "code",
   "execution_count": 3,
   "metadata": {},
   "outputs": [],
   "source": [
    "# Import All classifcation Algorithms\n",
    "from sklearn.ensemble import RandomForestClassifier, GradientBoostingClassifier\n",
    "from xgboost import XGBClassifier"
   ]
  },
  {
   "cell_type": "code",
   "execution_count": 4,
   "metadata": {},
   "outputs": [],
   "source": [
    "from sklearn.model_selection import train_test_split, GridSearchCV,cross_val_score,validation_curve,KFold"
   ]
  },
  {
   "cell_type": "code",
   "execution_count": 5,
   "metadata": {},
   "outputs": [],
   "source": [
    "# Metrics selection\n",
    "from sklearn.metrics import  accuracy_score, recall_score, confusion_matrix,precision_recall_fscore_support,classification_report,roc_curve"
   ]
  },
  {
   "cell_type": "code",
   "execution_count": 6,
   "metadata": {},
   "outputs": [
    {
     "name": "stdout",
     "output_type": "stream",
     "text": [
      "(1134, 28)\n"
     ]
    }
   ],
   "source": [
    "# read data file\n",
    "df1 = pd.read_csv('2_Employee_performance_withOutOutliers.csv')\n",
    "print(df1.shape)"
   ]
  },
  {
   "cell_type": "code",
   "execution_count": 7,
   "metadata": {},
   "outputs": [],
   "source": [
    "X1 = df1.iloc[:,:-1]\n",
    "y1 = df1.y_PerformanceRating"
   ]
  },
  {
   "cell_type": "code",
   "execution_count": 8,
   "metadata": {},
   "outputs": [],
   "source": [
    "# Split 80:20\n",
    "split_seed = 10\n",
    "X1_train, X1_test, y1_train, y1_test = train_test_split(X1,y1,random_state=split_seed, test_size=.2)"
   ]
  },
  {
   "cell_type": "markdown",
   "metadata": {},
   "source": [
    "# Scaling done based on EDA analysis. Fit on the Train set, but tranform both transform both training and test set"
   ]
  },
  {
   "cell_type": "code",
   "execution_count": 10,
   "metadata": {},
   "outputs": [],
   "source": [
    "# Create All lists\n",
    "import warnings\n",
    "warnings.filterwarnings(\"ignore\")\n",
    "ColList = ['Age ','DistanceFromHome', 'EmpEducationLevel', 'EmpEnvironmentSatisfaction','EmpHourlyRate','EmpJobInvolvement ',\n",
    "           'EmpJobLevel','EmpJobSatisfaction','EmpLastSalaryHikePercent','EmpRelationshipSatisfaction','EmpWorkLifeBalance',\n",
    "           'ExperienceYearsAtThisCompany','ExperienceYearsInCurrentRole','NumCompaniesWorked','TotalWorkExperienceInYears',\n",
    "           'TrainingTimesLastYear','YearsSinceLastPromotion','YearsWithCurrManager','PerformanceRating','Attrition','BusinessTravelFrequency', 'EducationBackground', 'EmpDepartment',\n",
    "           'EmpJobRole','Gender','MaritalStatus','OverTime']\n",
    "ConVarList= ['q_Age','q_DistanceFromHome','q_EmpEducationLevel', 'q_EmpEnvironmentSatisfaction','q_EmpHourlyRate', 'q_EmpJobInvolvement', 'q_EmpJobLevel',\n",
    "       'q_EmpJobSatisfaction', 'q_NumCompaniesWorked','q_EmpLastSalaryHikePercent', 'q_EmpRelationshipSatisfaction',\n",
    "       'q_TotalWorkExperienceInYears', 'q_TrainingTimesLastYear','q_EmpWorkLifeBalance', 'q_ExperienceYearsAtThisCompany',\n",
    "       'q_ExperienceYearsInCurrentRole', 'q_YearsSinceLastPromotion','q_YearsWithCurrManager']\n",
    "CatVarList=['c_EmpNumber', 'c_Gender', 'c_EducationBackground','c_MaritalStatus', 'c_EmpDepartment', 'c_EmpJobRole',\n",
    "       'c_BusinessTravelFrequency','c_OverTime','c_Attrition']\n",
    "OutcomeVar=['y_PerformanceRating']\n",
    "# Initialize\n",
    "scaler = StandardScaler()\n",
    "# Fit on train data\n",
    "scaler.fit(X1_train[ConVarList])\n",
    "# Transform both train and test\n",
    "X1_train[ConVarList] = scaler.transform(X1_train[ConVarList])\n",
    "X1_test[ConVarList] = scaler.transform(X1_test[ConVarList])"
   ]
  },
  {
   "cell_type": "markdown",
   "metadata": {},
   "source": [
    "# Optimization of hyperparameters using Grid search and random state variations"
   ]
  },
  {
   "cell_type": "code",
   "execution_count": 11,
   "metadata": {},
   "outputs": [
    {
     "name": "stdout",
     "output_type": "stream",
     "text": [
      "[16:29:52] WARNING: C:/Users/Administrator/workspace/xgboost-win64_release_1.4.0/src/learner.cc:573: \n",
      "Parameters: { \"scoring\" } might not be used.\n",
      "\n",
      "  This may not be accurate due to some parameters are only used in language bindings but\n",
      "  passed down to XGBoost core.  Or some parameters are not used but slip through this\n",
      "  verification. Please open an issue if you find above cases.\n",
      "\n",
      "\n",
      "[16:29:52] WARNING: C:/Users/Administrator/workspace/xgboost-win64_release_1.4.0/src/learner.cc:1095: Starting in XGBoost 1.3.0, the default evaluation metric used with the objective 'multi:softprob' was changed from 'merror' to 'mlogloss'. Explicitly set eval_metric if you'd like to restore the old behavior.\n",
      "[16:29:53] WARNING: C:/Users/Administrator/workspace/xgboost-win64_release_1.4.0/src/learner.cc:573: \n",
      "Parameters: { \"scoring\" } might not be used.\n",
      "\n",
      "  This may not be accurate due to some parameters are only used in language bindings but\n",
      "  passed down to XGBoost core.  Or some parameters are not used but slip through this\n",
      "  verification. Please open an issue if you find above cases.\n",
      "\n",
      "\n",
      "[16:29:53] WARNING: C:/Users/Administrator/workspace/xgboost-win64_release_1.4.0/src/learner.cc:1095: Starting in XGBoost 1.3.0, the default evaluation metric used with the objective 'multi:softprob' was changed from 'merror' to 'mlogloss'. Explicitly set eval_metric if you'd like to restore the old behavior.\n",
      "[16:29:53] WARNING: C:/Users/Administrator/workspace/xgboost-win64_release_1.4.0/src/learner.cc:573: \n",
      "Parameters: { \"scoring\" } might not be used.\n",
      "\n",
      "  This may not be accurate due to some parameters are only used in language bindings but\n",
      "  passed down to XGBoost core.  Or some parameters are not used but slip through this\n",
      "  verification. Please open an issue if you find above cases.\n",
      "\n",
      "\n",
      "[16:29:53] WARNING: C:/Users/Administrator/workspace/xgboost-win64_release_1.4.0/src/learner.cc:1095: Starting in XGBoost 1.3.0, the default evaluation metric used with the objective 'multi:softprob' was changed from 'merror' to 'mlogloss'. Explicitly set eval_metric if you'd like to restore the old behavior.\n",
      "[16:29:53] WARNING: C:/Users/Administrator/workspace/xgboost-win64_release_1.4.0/src/learner.cc:573: \n",
      "Parameters: { \"scoring\" } might not be used.\n",
      "\n",
      "  This may not be accurate due to some parameters are only used in language bindings but\n",
      "  passed down to XGBoost core.  Or some parameters are not used but slip through this\n",
      "  verification. Please open an issue if you find above cases.\n",
      "\n",
      "\n",
      "[16:29:54] WARNING: C:/Users/Administrator/workspace/xgboost-win64_release_1.4.0/src/learner.cc:1095: Starting in XGBoost 1.3.0, the default evaluation metric used with the objective 'multi:softprob' was changed from 'merror' to 'mlogloss'. Explicitly set eval_metric if you'd like to restore the old behavior.\n",
      "[16:29:54] WARNING: C:/Users/Administrator/workspace/xgboost-win64_release_1.4.0/src/learner.cc:573: \n",
      "Parameters: { \"scoring\" } might not be used.\n",
      "\n",
      "  This may not be accurate due to some parameters are only used in language bindings but\n",
      "  passed down to XGBoost core.  Or some parameters are not used but slip through this\n",
      "  verification. Please open an issue if you find above cases.\n",
      "\n",
      "\n",
      "[16:29:54] WARNING: C:/Users/Administrator/workspace/xgboost-win64_release_1.4.0/src/learner.cc:1095: Starting in XGBoost 1.3.0, the default evaluation metric used with the objective 'multi:softprob' was changed from 'merror' to 'mlogloss'. Explicitly set eval_metric if you'd like to restore the old behavior.\n",
      "[16:29:54] WARNING: C:/Users/Administrator/workspace/xgboost-win64_release_1.4.0/src/learner.cc:573: \n",
      "Parameters: { \"scoring\" } might not be used.\n",
      "\n",
      "  This may not be accurate due to some parameters are only used in language bindings but\n",
      "  passed down to XGBoost core.  Or some parameters are not used but slip through this\n",
      "  verification. Please open an issue if you find above cases.\n",
      "\n",
      "\n",
      "[16:29:54] WARNING: C:/Users/Administrator/workspace/xgboost-win64_release_1.4.0/src/learner.cc:1095: Starting in XGBoost 1.3.0, the default evaluation metric used with the objective 'multi:softprob' was changed from 'merror' to 'mlogloss'. Explicitly set eval_metric if you'd like to restore the old behavior.\n"
     ]
    },
    {
     "data": {
      "text/plain": [
       "GridSearchCV(estimator=XGBClassifier(base_score=None, booster='gbtree',\n",
       "                                     colsample_bylevel=None,\n",
       "                                     colsample_bynode=None,\n",
       "                                     colsample_bytree=None, gamma=None,\n",
       "                                     gpu_id=None, importance_type='gain',\n",
       "                                     interaction_constraints=None,\n",
       "                                     learning_rate=None, max_delta_step=None,\n",
       "                                     max_depth=None, min_child_weight=None,\n",
       "                                     missing=nan, monotone_constraints=None,\n",
       "                                     n_estimators=100, n_jobs=None,\n",
       "                                     num_parallel_tree=None, random_state=10,\n",
       "                                     reg_alpha=None, reg_lambda=None,\n",
       "                                     scale_pos_weight=None, subsample=None,\n",
       "                                     tree_method=None, validate_parameters=None,\n",
       "                                     verbosity=None),\n",
       "             param_grid={'colsample_bytree': [0.7], 'gamma': [0.0],\n",
       "                         'learning_rate': [0.05], 'max_depth': [3],\n",
       "                         'min_child_weight': [3], 'n_estimators': [100],\n",
       "                         'scoring': ['accuracy']})"
      ]
     },
     "execution_count": 11,
     "metadata": {},
     "output_type": "execute_result"
    }
   ],
   "source": [
    "'''\n",
    "parameters = {\"learning_rate\": [.05,.1, .15],\n",
    "              \"max_depth\": [3,5,8,10,15,20],\n",
    "              \"min_child_weight\" : [ 3, 5, 7 ],\n",
    "              \"gamma\"            : [ 0.0, 0.1,0.2],\n",
    "              \"colsample_bytree\" : [ 0.1,0.7,0.8], \n",
    "              \"scoring\"         : [\"accuracy\"] \n",
    "             }\n",
    "\n",
    "'''\n",
    "\n",
    "parameters = {'colsample_bytree': [0.7],\n",
    "              'gamma': [0.0],\n",
    "              'learning_rate': [0.05],\n",
    "              'max_depth': [3],\n",
    "              'min_child_weight': [3],\n",
    "              'n_estimators': [100],\n",
    "              'scoring': ['accuracy']\n",
    "             }\n",
    "\n",
    "model = XGBClassifier(booster='gbtree',random_state=10)\n",
    "grid_model_XGB = GridSearchCV(model, parameters)\n",
    "grid_model_XGB.fit(X1_train, y1_train)"
   ]
  },
  {
   "cell_type": "code",
   "execution_count": 12,
   "metadata": {},
   "outputs": [
    {
     "data": {
      "text/plain": [
       "{'colsample_bytree': 0.7,\n",
       " 'gamma': 0.0,\n",
       " 'learning_rate': 0.05,\n",
       " 'max_depth': 3,\n",
       " 'min_child_weight': 3,\n",
       " 'n_estimators': 100,\n",
       " 'scoring': 'accuracy'}"
      ]
     },
     "execution_count": 12,
     "metadata": {},
     "output_type": "execute_result"
    }
   ],
   "source": [
    "grid_model_XGB.best_params_"
   ]
  },
  {
   "cell_type": "code",
   "execution_count": 13,
   "metadata": {},
   "outputs": [
    {
     "name": "stdout",
     "output_type": "stream",
     "text": [
      "[[ 29   9   0]\n",
      " [  2 163   1]\n",
      " [  0   3  20]]\n",
      "93.39\n",
      "              precision    recall  f1-score   support\n",
      "\n",
      "           2       0.94      0.76      0.84        38\n",
      "           3       0.93      0.98      0.96       166\n",
      "           4       0.95      0.87      0.91        23\n",
      "\n",
      "    accuracy                           0.93       227\n",
      "   macro avg       0.94      0.87      0.90       227\n",
      "weighted avg       0.93      0.93      0.93       227\n",
      "\n"
     ]
    }
   ],
   "source": [
    "y1_predict = pd.DataFrame(grid_model_XGB.predict(X1_test),columns=['y_s'])\n",
    "print(confusion_matrix(y1_test,y1_predict))\n",
    "print(accuracy_score(y1_test,y1_predict).round(4)*100)\n",
    "print(classification_report(y1_test,y1_predict))"
   ]
  },
  {
   "cell_type": "markdown",
   "metadata": {},
   "source": [
    "# Final Model"
   ]
  },
  {
   "cell_type": "code",
   "execution_count": 14,
   "metadata": {},
   "outputs": [
    {
     "name": "stdout",
     "output_type": "stream",
     "text": [
      "[16:30:07] WARNING: C:/Users/Administrator/workspace/xgboost-win64_release_1.4.0/src/learner.cc:573: \n",
      "Parameters: { \"scoring\" } might not be used.\n",
      "\n",
      "  This may not be accurate due to some parameters are only used in language bindings but\n",
      "  passed down to XGBoost core.  Or some parameters are not used but slip through this\n",
      "  verification. Please open an issue if you find above cases.\n",
      "\n",
      "\n",
      "[16:30:07] WARNING: C:/Users/Administrator/workspace/xgboost-win64_release_1.4.0/src/learner.cc:1095: Starting in XGBoost 1.3.0, the default evaluation metric used with the objective 'multi:softprob' was changed from 'merror' to 'mlogloss'. Explicitly set eval_metric if you'd like to restore the old behavior.\n"
     ]
    },
    {
     "data": {
      "text/plain": [
       "XGBClassifier(base_score=0.5, booster='gbtree', colsample_bylevel=1,\n",
       "              colsample_bynode=1, colsample_bytree=0.8, gamma=0.0, gpu_id=-1,\n",
       "              importance_type='gain', interaction_constraints='',\n",
       "              learning_rate=0.05, max_delta_step=0, max_depth=3,\n",
       "              min_child_weight=3, missing=nan, monotone_constraints='()',\n",
       "              n_estimators=100, n_jobs=4, num_parallel_tree=1,\n",
       "              objective='multi:softprob', random_state=10, reg_alpha=0,\n",
       "              reg_lambda=1, scale_pos_weight=None, scoring='accuracy',\n",
       "              subsample=1, tree_method='exact', validate_parameters=1,\n",
       "              verbosity=None)"
      ]
     },
     "execution_count": 14,
     "metadata": {},
     "output_type": "execute_result"
    }
   ],
   "source": [
    "model = XGBClassifier(booster='gbtree',\n",
    "                      random_state=10,\n",
    "                      learning_rate=0.05,\n",
    "                      max_depth=3,\n",
    "                      min_child_weight=3,\n",
    "                      gamma = 0.0,\n",
    "                      colsample_bytree=0.8,\n",
    "                      scoring='accuracy'\n",
    "                     )\n",
    "model.fit(X1_train, y1_train)"
   ]
  },
  {
   "cell_type": "code",
   "execution_count": 15,
   "metadata": {},
   "outputs": [
    {
     "name": "stdout",
     "output_type": "stream",
     "text": [
      "[[ 29   9   0]\n",
      " [  2 163   1]\n",
      " [  0   3  20]]\n",
      "93.39\n",
      "              precision    recall  f1-score   support\n",
      "\n",
      "           2       0.94      0.76      0.84        38\n",
      "           3       0.93      0.98      0.96       166\n",
      "           4       0.95      0.87      0.91        23\n",
      "\n",
      "    accuracy                           0.93       227\n",
      "   macro avg       0.94      0.87      0.90       227\n",
      "weighted avg       0.93      0.93      0.93       227\n",
      "\n"
     ]
    }
   ],
   "source": [
    "# Results\n",
    "y1_predict = pd.DataFrame(model.predict(X1_test),columns=['y_salary_band'])\n",
    "print(confusion_matrix(y1_test,y1_predict))\n",
    "print(accuracy_score(y1_test,y1_predict).round(4)*100)\n",
    "print(classification_report(y1_test,y1_predict))"
   ]
  },
  {
   "cell_type": "markdown",
   "metadata": {},
   "source": [
    "# Feature Importance"
   ]
  },
  {
   "cell_type": "code",
   "execution_count": 16,
   "metadata": {},
   "outputs": [
    {
     "data": {
      "text/plain": [
       "<matplotlib.axes._subplots.AxesSubplot at 0x1b8805e2160>"
      ]
     },
     "execution_count": 16,
     "metadata": {},
     "output_type": "execute_result"
    },
    {
     "data": {
      "image/png": "[encoded data removed]",
      "text/plain": [
       "<Figure size 720x360 with 1 Axes>"
      ]
     },
     "metadata": {
      "needs_background": "light"
     },
     "output_type": "display_data"
    }
   ],
   "source": [
    "ColList = ['Age ','DistanceFromHome', 'EmpEducationLevel', 'EmpEnvironmentSatisfaction','EmpHourlyRate','EmpJobInvolvement ',\n",
    "           'EmpJobLevel','EmpJobSatisfaction','EmpLastSalaryHikePercent','EmpRelationshipSatisfaction','EmpWorkLifeBalance',\n",
    "           'ExperienceYearsAtThisCompany','ExperienceYearsInCurrentRole','NumCompaniesWorked','TotalWorkExperienceInYears',\n",
    "           'TrainingTimesLastYear','YearsSinceLastPromotion','YearsWithCurrManager','PerformanceRating','Attrition','BusinessTravelFrequency', 'EducationBackground', 'EmpDepartment',\n",
    "           'EmpJobRole','Gender','MaritalStatus','OverTime']\n",
    "FeatureImportance1 = pd.DataFrame({'Feature':ColList,'Importance':model.feature_importances_*100})\n",
    "\n",
    "FeatureImportance1 = FeatureImportance1.sort_values(by='Importance', axis=0, ascending=False)\n",
    "\n",
    "\n",
    "FeatureImportance1.plot(x='Feature',\n",
    "            y='Importance',\n",
    "            kind='bar',\n",
    "            grid=True,\n",
    "            title=\"Feature Vs Influence on Model\",\n",
    "            legend = True,\n",
    "            figsize = (10,5)\n",
    "            )"
   ]
  }
 ],
 "metadata": {
  "kernelspec": {
   "display_name": "Python 3",
   "language": "python",
   "name": "python3"
  },
  "language_info": {
   "codemirror_mode": {
    "name": "ipython",
    "version": 3
   },
   "file_extension": ".py",
   "mimetype": "text/x-python",
   "name": "python",
   "nbconvert_exporter": "python",
   "pygments_lexer": "ipython3",
   "version": "3.8.3"
  }
 },
 "nbformat": 4,
 "nbformat_minor": 2
}
